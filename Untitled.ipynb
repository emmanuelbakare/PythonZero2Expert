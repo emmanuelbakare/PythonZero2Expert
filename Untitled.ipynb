{
 "cells": [
  {
   "cell_type": "code",
   "execution_count": 1,
   "id": "741aeb0b",
   "metadata": {},
   "outputs": [
    {
     "name": "stdout",
     "output_type": "stream",
     "text": [
      "simple computer processing...\n"
     ]
    }
   ],
   "source": [
    "class Computer:\n",
    "    def process(self):\n",
    "        print('simple computer processing...')\n",
    "\n",
    "dell=Computer()\n",
    "dell.process()\n",
    "type()"
   ]
  },
  {
   "cell_type": "code",
   "execution_count": 7,
   "id": "ddb4d82b",
   "metadata": {},
   "outputs": [
    {
     "data": {
      "text/plain": [
       "__main__.Computer"
      ]
     },
     "execution_count": 7,
     "metadata": {},
     "output_type": "execute_result"
    }
   ],
   "source": [
    "type(dell)\n"
   ]
  },
  {
   "cell_type": "code",
   "execution_count": 10,
   "id": "e1e3a79a",
   "metadata": {},
   "outputs": [],
   "source": [
    "from abc import ABC, abstractmethod\n",
    "\n",
    "class Computer(ABC):\n",
    "    @abstractmethod\n",
    "    def process(self):\n",
    "        pass\n",
    "    "
   ]
  },
  {
   "cell_type": "code",
   "execution_count": 13,
   "id": "66a4a684",
   "metadata": {},
   "outputs": [],
   "source": [
    "class Laptop(Computer):\n",
    "    def process(self):\n",
    "        print('start processing...')\n",
    "        \n",
    "lenovo=Laptop()\n"
   ]
  },
  {
   "cell_type": "code",
   "execution_count": null,
   "id": "11ce72a0",
   "metadata": {},
   "outputs": [],
   "source": []
  }
 ],
 "metadata": {
  "kernelspec": {
   "display_name": "Python 3 (ipykernel)",
   "language": "python",
   "name": "python3"
  },
  "language_info": {
   "codemirror_mode": {
    "name": "ipython",
    "version": 3
   },
   "file_extension": ".py",
   "mimetype": "text/x-python",
   "name": "python",
   "nbconvert_exporter": "python",
   "pygments_lexer": "ipython3",
   "version": "3.10.0"
  }
 },
 "nbformat": 4,
 "nbformat_minor": 5
}
