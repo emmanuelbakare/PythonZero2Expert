{
 "cells": [
  {
   "cell_type": "code",
   "execution_count": 2,
   "id": "2b1604cd",
   "metadata": {},
   "outputs": [
    {
     "name": "stdout",
     "output_type": "stream",
     "text": [
      "['SNO', 'FOLDER', 'SIZE', 'TYPE']\n",
      "['1', '3D', '167', 'GB']\n",
      "['2', 'ADOBE', '20.8', 'GB']\n",
      "['3', 'AECS5COMMONPATH', '4.61', 'MB']\n",
      "['4', 'AUDIO BIBLE - ALEXANDER SCOURBY', '3.89', 'GB']\n",
      "['5', 'Brushes', '1.75', 'GB']\n",
      "['6', 'DISTRO', '0.08', 'MB']\n",
      "['7', 'driver ASUS', '0.05', 'MB']\n",
      "['8', 'KODU', '46', 'GB']\n",
      "['9', 'LMS', '51.9', 'MB']\n",
      "['10', 'LyndaDecryptor', '17.1', 'MB']\n",
      "['11', 'LyndaDescripted', '8.29', 'GB']\n",
      "['12', 'Memory Verse Audio', '93.8', 'MB']\n",
      "['13', 'moodlevault', '15.7', 'MB']\n",
      "['14', 'MUSIC', '38.7', 'GB']\n",
      "['15', 'Music Tutorials', '8.7', 'GB']\n",
      "['16', 'nascPictures', '5.67', 'GB']\n",
      "['17', 'new', '4.51', 'GB']\n",
      "['18', 'OVER PROJECT', '64.3', 'GB']\n",
      "['19', 'photos', '26.9', 'GB']\n",
      "['20', 'PHOTOS2', '11.6', 'GB']\n",
      "['21', 'PHOTOSHOP', '5.95', 'GB']\n",
      "['22', 'RCCG', '88.5', 'GB']\n",
      "['23', 'RCCG ANA CHOIR', '10.4', 'MB']\n",
      "['24', 'RCCG- COP PARISH', '2.88', 'MB']\n",
      "['25', 'ROBOTICS', '12.1', 'GB']\n",
      "['26', 'SHIFT 2018', '6.35', 'GB']\n",
      "['27', 'SOUND', '9.45', 'GB']\n",
      "['28', 'tmp', '1.7', 'GB']\n",
      "['29', 'VIDEO SHOT', '312', 'GB']\n",
      "['30', 'VISIO', '437', 'MG']\n",
      "['31', 'Web', '58.6', 'GB']\n",
      "['32', 'web cast', '10.7', 'GB']\n",
      "['33', 'Web Projects', '20.8', 'GB']\n",
      "['34', 'webTemplate 2', '112', 'KB']\n",
      "['35', 'word saves', '16', 'KB']\n",
      "['36', 'YAYA', '124', 'MB']\n",
      "['', '', '', '']\n"
     ]
    }
   ],
   "source": [
    "import csv\n",
    "\n",
    "with open('file2.csv') as file:\n",
    "    csvfile=csv.reader(file)\n",
    "    for row in csvfile:\n",
    "        print(row)"
   ]
  },
  {
   "cell_type": "code",
   "execution_count": 5,
   "id": "5ebe624b",
   "metadata": {},
   "outputs": [
    {
     "name": "stdout",
     "output_type": "stream",
     "text": [
      "<body> <h1> Header Here</h1></body>\n"
     ]
    }
   ],
   "source": [
    "print('<body> <h1> Header Here</h1></body>')"
   ]
  },
  {
   "cell_type": "code",
   "execution_count": null,
   "id": "aef9f0ff",
   "metadata": {},
   "outputs": [],
   "source": []
  }
 ],
 "metadata": {
  "kernelspec": {
   "display_name": "Python 3 (ipykernel)",
   "language": "python",
   "name": "python3"
  },
  "language_info": {
   "codemirror_mode": {
    "name": "ipython",
    "version": 3
   },
   "file_extension": ".py",
   "mimetype": "text/x-python",
   "name": "python",
   "nbconvert_exporter": "python",
   "pygments_lexer": "ipython3",
   "version": "3.10.0"
  }
 },
 "nbformat": 4,
 "nbformat_minor": 5
}
